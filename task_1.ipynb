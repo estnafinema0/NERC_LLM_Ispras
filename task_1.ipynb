{
 "cells": [
  {
   "cell_type": "markdown",
   "metadata": {},
   "source": [
    "#  NERC task with CoNLL 2003\n",
    "\n",
    "This is the first part of the task dedicated to reserching *Named Entity Recognition and Classification (NERC)* task applying to the *CoNLL 2003 dataset*. In this step we need find the best way to generate markup for the dataset in the subsequent steps. Also, we will experiment with prompt engineering.\n"
   ]
  },
  {
   "cell_type": "markdown",
   "metadata": {},
   "source": [
    "## Dataset analysis\n",
    "\n",
    "First of all, we need to import necessery libraries and download our dataset:"
   ]
  },
  {
   "cell_type": "code",
   "execution_count": 1,
   "metadata": {},
   "outputs": [],
   "source": [
    "# !pip install datasets"
   ]
  },
  {
   "cell_type": "code",
   "execution_count": 2,
   "metadata": {},
   "outputs": [],
   "source": [
    "from datasets import load_dataset\n",
    "import pandas as pd\n",
    "from collections import Counter, deque\n",
    "import requests\n",
    "from pprint import pprint\n",
    "import os\n",
    "import json\n",
    "import random\n",
    "import multiprocessing\n",
    "import itertools\n",
    "import matplotlib.pyplot as plt\n",
    "from collections import Counter\n",
    "from sklearn.metrics import precision_score, recall_score, f1_score\n",
    "from dataclasses import dataclass\n",
    "import pickle"
   ]
  },
  {
   "cell_type": "code",
   "execution_count": 3,
   "metadata": {},
   "outputs": [],
   "source": [
    "API_URL = \"https://llm.ispras.ru/api/chat/completions\"\n",
    "API_MODEL_URL = \"https://llm.ispras.ru/api/models\"\n",
    "API_KEY = \"YOUR_TOKEN\"\n",
    "with open('./secrets') as file:\n",
    "    data: dict = json.load(file)\n",
    "    API_KEY = data.get('API_KEY', 'FAILED TO LOAD')"
   ]
  },
  {
   "cell_type": "code",
   "execution_count": 4,
   "metadata": {},
   "outputs": [],
   "source": [
    "dataset = load_dataset(\"eriktks/conll2003\")"
   ]
  },
  {
   "cell_type": "markdown",
   "metadata": {},
   "source": [
    "Let's look at the information about the dataset. We have three splits: 'train', 'validation', 'test'.\n",
    "\n",
    "`dataset.keys()` - to see what splits we have.\n"
   ]
  },
  {
   "cell_type": "code",
   "execution_count": 5,
   "metadata": {},
   "outputs": [
    {
     "name": "stdout",
     "output_type": "stream",
     "text": [
      "DatasetDict({\n",
      "    train: Dataset({\n",
      "        features: ['id', 'tokens', 'pos_tags', 'chunk_tags', 'ner_tags'],\n",
      "        num_rows: 14041\n",
      "    })\n",
      "    validation: Dataset({\n",
      "        features: ['id', 'tokens', 'pos_tags', 'chunk_tags', 'ner_tags'],\n",
      "        num_rows: 3250\n",
      "    })\n",
      "    test: Dataset({\n",
      "        features: ['id', 'tokens', 'pos_tags', 'chunk_tags', 'ner_tags'],\n",
      "        num_rows: 3453\n",
      "    })\n",
      "})\n"
     ]
    }
   ],
   "source": [
    "print(dataset)"
   ]
  },
  {
   "cell_type": "markdown",
   "metadata": {},
   "source": [
    "Let's look at the first example in our dataset:"
   ]
  },
  {
   "cell_type": "code",
   "execution_count": 6,
   "metadata": {},
   "outputs": [
    {
     "name": "stdout",
     "output_type": "stream",
     "text": [
      "{'chunk_tags': [11, 13, 11, 12, 12],\n",
      " 'id': '666',\n",
      " 'ner_tags': [0, 0, 7, 0, 0],\n",
      " 'pos_tags': [24, 15, 16, 16, 21],\n",
      " 'tokens': ['Results', 'of', 'French', 'first', 'division']}\n"
     ]
    }
   ],
   "source": [
    "pprint(dataset[\"test\"][666])\n"
   ]
  },
  {
   "cell_type": "markdown",
   "metadata": {},
   "source": [
    "Evaluate the number of examples:"
   ]
  },
  {
   "cell_type": "code",
   "execution_count": 7,
   "metadata": {},
   "outputs": [
    {
     "name": "stdout",
     "output_type": "stream",
     "text": [
      "Split 'train':  14041 examples.\n",
      "Split 'validation':  3250 examples.\n",
      "Split 'test':  3453 examples.\n"
     ]
    }
   ],
   "source": [
    "for split in dataset.keys():\n",
    "    dataset_split = dataset[split]\n",
    "    split_len = len(dataset_split)\n",
    "    print(f\"Split '{split}':  {split_len} examples.\")\n"
   ]
  },
  {
   "cell_type": "markdown",
   "metadata": {},
   "source": [
    "\n",
    "### Entity Tags\n",
    "\n",
    "The original dataset uses named entity recognition (NER) tags in the IOB2 format.\n",
    "\n",
    "Each token is annotated with three types of tags:\n",
    "1. POS Tags: Indicate the token's grammatical role (e.g., 'NN', 'VB', etc.).\n",
    "2. Chunk Tags: Specify the syntactic chunk the token belongs to (e.g., 'B-NP', 'I-NP').\n",
    "3. NER Tags: Identify named entities using the IOB2 scheme:\n",
    "   - 'O'      : Token is not part of any entity.\n",
    "   - 'B-PER'  : Beginning of a person entity.\n",
    "   - 'I-PER'  : Inside a person entity.\n",
    "   - 'B-ORG'  : Beginning of an organization entity.\n",
    "   - 'I-ORG'  : Inside an organization entity.\n",
    "   - 'B-LOC'  : Beginning of a location entity.\n",
    "   - 'I-LOC'  : Inside a location entity.\n",
    "   - 'B-MISC' : Beginning of a miscellaneous entity.\n",
    "   - 'I-MISC' : Inside a miscellaneous entity."
   ]
  },
  {
   "cell_type": "code",
   "execution_count": 8,
   "metadata": {},
   "outputs": [],
   "source": [
    "POS_TAGS = {'\"': 0, \"''\": 1, '#': 2, '$': 3, '(': 4, ')': 5, ',': 6, '.': 7, ':': 8, '``': 9, 'CC': 10, 'CD': 11, 'DT': 12,\n",
    " 'EX': 13, 'FW': 14, 'IN': 15, 'JJ': 16, 'JJR': 17, 'JJS': 18, 'LS': 19, 'MD': 20, 'NN': 21, 'NNP': 22, 'NNPS': 23,\n",
    " 'NNS': 24, 'NN|SYM': 25, 'PDT': 26, 'POS': 27, 'PRP': 28, 'PRP$': 29, 'RB': 30, 'RBR': 31, 'RBS': 32, 'RP': 33,\n",
    " 'SYM': 34, 'TO': 35, 'UH': 36, 'VB': 37, 'VBD': 38, 'VBG': 39, 'VBN': 40, 'VBP': 41, 'VBZ': 42, 'WDT': 43,\n",
    " 'WP': 44, 'WP$': 45, 'WRB': 46}\n",
    "\n",
    "CHUNK_TAGS = {'O': 0, 'B-ADJP': 1, 'I-ADJP': 2, 'B-AfdsdDVP': 3, 'I-ADVP': 4, 'B-CONJP': 5, 'I-CONJP': 6, 'B-INTJ': 7, 'I-INTJ': 8,\n",
    " 'B-LST': 9, 'I-LST': 10, 'B-NP': 11, 'I-NP': 12, 'B-PP': 13, 'I-PP': 14, 'B-PRT': 15, 'I-PRT': 16, 'B-SBAR': 17,\n",
    " 'I-SBAR': 18, 'B-UCP': 19, 'I-UCP': 20, 'B-VP': 21, 'I-VP': 22}\n",
    "\n",
    "NER_TAGS = {'O': 0, 'B-PER': 1, 'I-PER': 2, 'B-ORG': 3, 'I-ORG': 4, 'B-LOC': 5, 'I-LOC': 6, 'B-MISC': 7, 'I-MISC': 8}\n"
   ]
  },
  {
   "cell_type": "markdown",
   "metadata": {},
   "source": [
    "Let's see the distribution of tags in the dataset:"
   ]
  },
  {
   "cell_type": "code",
   "execution_count": 9,
   "metadata": {},
   "outputs": [
    {
     "name": "stdout",
     "output_type": "stream",
     "text": [
      "POS Tags Distribution: Counter({22: 51545, 21: 34856, 11: 29962, 15: 28059, 12: 19773, 16: 17267, 24: 14580, 38: 12222, 7: 10898, 6: 10877, 37: 6304, 40: 5964, 30: 5852, 10: 5350, 35: 5193, 28: 4630, 4: 4233, 5: 4232, 39: 3769, 8: 3609, 42: 3439, 0: 3239, 27: 2323, 29: 2238, 41: 2132, 20: 1767, 23: 1010, 33: 784, 43: 769, 44: 769, 34: 642, 3: 622, 17: 579, 46: 551, 18: 388, 31: 259, 14: 228, 13: 210, 32: 62, 1: 60, 26: 47, 36: 42, 45: 41, 19: 37, 25: 5})\n",
      "Chunk Tags Distribution: Counter({12: 99175, 11: 85016, 0: 40828, 13: 27706, 21: 26510, 22: 12902, 3: 3846, 17: 1931, 1: 1747, 15: 784, 2: 318, 4: 210, 14: 135, 7: 103, 9: 64, 6: 59, 5: 47, 18: 30, 10: 4, 16: 2, 8: 1})\n",
      "NER Tags Distribution: Counter({0: 250660, 5: 10645, 1: 10059, 3: 9323, 2: 6991, 4: 5290, 7: 5062, 8: 1717, 6: 1671})\n"
     ]
    }
   ],
   "source": [
    "def analyze_tags(dataset):\n",
    "    pos_tags_counter = Counter()\n",
    "    chunk_tags_counter = Counter()\n",
    "    ner_tags_counter = Counter()\n",
    "    \n",
    "    for split in dataset.keys():\n",
    "        for example in dataset[split]:\n",
    "            pos_tags_counter.update(example[\"pos_tags\"])\n",
    "            chunk_tags_counter.update(example[\"chunk_tags\"])\n",
    "            ner_tags_counter.update(example[\"ner_tags\"])\n",
    "    \n",
    "    print(\"POS Tags Distribution:\", pos_tags_counter)\n",
    "    print(\"Chunk Tags Distribution:\", chunk_tags_counter)\n",
    "    print(\"NER Tags Distribution:\", ner_tags_counter)\n",
    "    \n",
    "    return pos_tags_counter, chunk_tags_counter, ner_tags_counter\n",
    "\n",
    "pos_tags_counter, chunk_tags_counter, ner_tags_counter = analyze_tags(dataset)"
   ]
  },
  {
   "cell_type": "code",
   "execution_count": 10,
   "metadata": {},
   "outputs": [
    {
     "data": {
      "image/png": "[encoded data removed]",
      "text/plain": [
       "<Figure size 1000x1400 with 3 Axes>"
      ]
     },
     "metadata": {},
     "output_type": "display_data"
    }
   ],
   "source": [
    "inv_pos_tags = {v: k for k, v in POS_TAGS.items()}\n",
    "inv_chunk_tags = {v: k for k, v in CHUNK_TAGS.items()}\n",
    "inv_ner_tags = {v: k for k, v in NER_TAGS.items()}\n",
    "\n",
    "fig, axes = plt.subplots(3, 1, figsize=(10, 14))\n",
    "\n",
    "pos_sorted = sorted(pos_tags_counter.items(), key=lambda x: x[1], reverse=True)\n",
    "pos_keys, pos_values = zip(*pos_sorted)\n",
    "pos_labels = [inv_pos_tags.get(k, str(k)) for k in pos_keys]\n",
    "\n",
    "# POS tags\n",
    "axes[0].bar(pos_labels, pos_values)\n",
    "axes[0].set_title(\"Distribution POS tags\")\n",
    "axes[0].set_xlabel(\"POS tag\")\n",
    "axes[0].set_ylabel(\"Frequency\")\n",
    "axes[0].tick_params(axis='x', rotation=90)\n",
    "\n",
    "chunk_sorted = sorted(chunk_tags_counter.items(), key=lambda x: x[1], reverse=True)\n",
    "chunk_keys, chunk_values = zip(*chunk_sorted)\n",
    "chunk_labels = [inv_chunk_tags.get(k, str(k)) for k in chunk_keys]\n",
    "\n",
    "# Chunk tags\n",
    "axes[1].bar(chunk_labels, chunk_values)\n",
    "axes[1].set_title(\"Distribution Chunk tags\")\n",
    "axes[1].set_xlabel(\"Chunk tag\")\n",
    "axes[1].set_ylabel(\"Frequency\")\n",
    "axes[1].tick_params(axis='x', rotation=90)\n",
    "\n",
    "# NER tags\n",
    "ner_sorted = sorted(ner_tags_counter.items(), key=lambda x: x[1], reverse=True)\n",
    "ner_keys, ner_values = zip(*ner_sorted)\n",
    "ner_labels = [inv_ner_tags.get(k, str(k)) for k in ner_keys]\n",
    "\n",
    "axes[2].bar(ner_labels, ner_values)\n",
    "axes[2].set_title(\"Distribution NER tags\")\n",
    "axes[2].set_xlabel(\"NER tag\")\n",
    "axes[2].set_ylabel(\"Frequency\")\n",
    "axes[2].tick_params(axis='x', rotation=90)\n",
    "\n",
    "plt.tight_layout()\n",
    "plt.show()"
   ]
  },
  {
   "cell_type": "markdown",
   "metadata": {},
   "source": [
    "### Sentences in the dataset\n"
   ]
  },
  {
   "cell_type": "markdown",
   "metadata": {},
   "source": [
    "Each sentence is split into tokens. "
   ]
  },
  {
   "cell_type": "code",
   "execution_count": 11,
   "metadata": {},
   "outputs": [
    {
     "data": {
      "text/plain": [
       "<pyarrow.ListScalar: ['EU', 'rejects', 'German', 'call', 'to', 'boycott', 'British', 'lamb', '.']>"
      ]
     },
     "execution_count": 11,
     "metadata": {},
     "output_type": "execute_result"
    }
   ],
   "source": [
    "dataset.data[\"train\"][\"tokens\"][0]"
   ]
  },
  {
   "cell_type": "markdown",
   "metadata": {},
   "source": [
    "To use sentences in model we need to group tokens to lists for each sentences with function `get_sentence`.\n",
    "\n",
    "After generating we will have the batch with random sentences to send them to the model.\n",
    "\n",
    "The function `generate_corps` takes dataset_\n"
   ]
  },
  {
   "cell_type": "code",
   "execution_count": 12,
   "metadata": {},
   "outputs": [],
   "source": [
    "def get_sentence(dataset_name: str, idx: int) -> str: \n",
    "    return ' '.join(dataset.data[dataset_name][\"tokens\"][idx].values.tolist())\n",
    "\n",
    "def generate_corps(size: int, dataset_name: str):\n",
    "    data = dataset[dataset_name]\n",
    "    data_size = data.shape[0]\n",
    "    return (get_sentence(dataset_name, idx) \n",
    "            for idx in random.choices(range(data_size), k=size))"
   ]
  },
  {
   "cell_type": "markdown",
   "metadata": {},
   "source": [
    "For example for batch of 10 random sentences:\n",
    "\n",
    "```python\n",
    "generate_corps(10, \"train\"), sep='\\n'\n",
    "```\n",
    "\n",
    "we will have the batch of unannotated sentances.\n",
    "\n",
    "```bash\n",
    "delivered to consumer\n",
    "shares outstanding\n",
    "3 - Wayne Ferreira ( South Africa ) beat Jiri Novak ( Czech\n",
    "LECIVA PRAHA 2470.00 2470.00 1360 3359.200\n",
    "BOSTON AT CALIFORNIA\n",
    "-- Helsinki Newsroom +358 - 0 - 680 50 245\n",
    "More than 1,000 people have been executed in drug-related cases since the law took effect in 1989 .\n",
    "In another scene , a young girl performed oral sex with an unidentified adult man .\n",
    "Essex 532-8\n",
    "ACC sold 9.4 million tonnes in 1995/96 , retaining its top position in the Indian cement industry , Palkhivala said .\n",
    "```"
   ]
  },
  {
   "cell_type": "code",
   "execution_count": 13,
   "metadata": {},
   "outputs": [
    {
     "name": "stdout",
     "output_type": "stream",
     "text": [
      "Revenue from commuter traffic 5,400 up 4.6 pct\n",
      "Police spokesman Roger Grimwade said the six or seven hijackers remained on board the aircraft , which arrived from Cyprus at 4.30 a.m. ( 0330 GMT ) .\n"
     ]
    }
   ],
   "source": [
    "print(*generate_corps(2, \"train\"), sep='\\n')\n"
   ]
  },
  {
   "cell_type": "markdown",
   "metadata": {},
   "source": [
    "## Model requests\n",
    "\n",
    "To make the request to the models let's make the request's head and body. And see the available models list to use them further."
   ]
  },
  {
   "cell_type": "code",
   "execution_count": 14,
   "metadata": {},
   "outputs": [],
   "source": [
    "headers = {\n",
    "    \"Authorization\": f\"Bearer {API_KEY}\",\n",
    "    \"Content-Type\": \"application/json\"\n",
    "}"
   ]
  },
  {
   "cell_type": "markdown",
   "metadata": {},
   "source": [
    "Retrieve all models names:\n",
    "\n"
   ]
  },
  {
   "cell_type": "code",
   "execution_count": 15,
   "metadata": {},
   "outputs": [],
   "source": [
    "def get_all_model_names():\n",
    "    headers = {\"Authorization\": f\"Bearer {API_KEY}\"}\n",
    "    response = requests.get(API_MODEL_URL, headers=headers)\n",
    "    if response.status_code // 100 == 2:\n",
    "        data = response.json()\n",
    "        models = data.get(\"data\", [])\n",
    "        model_names = [model[\"name\"] for model in models]\n",
    "        return model_names\n",
    "    return None"
   ]
  },
  {
   "cell_type": "code",
   "execution_count": 16,
   "metadata": {},
   "outputs": [
    {
     "name": "stdout",
     "output_type": "stream",
     "text": [
      "['llama3.3:latest',\n",
      " 'llama3.1:70b',\n",
      " 'llama3.1:405b',\n",
      " 'gemma2:27b',\n",
      " 'mistral-large:123b',\n",
      " 'command-r-plus:104b',\n",
      " 'llama3.1:8b',\n",
      " 'krith/qwen2.5-coder-32b-instruct:IQ3_M',\n",
      " 'deepseek-coder-v2:236b',\n",
      " 'llama3.2:latest',\n",
      " 'mistral:7b',\n",
      " 'RuadaptQwen2.5-32B-FuseO1:Q8',\n",
      " 'RuadaptQwen2.5-32B-Pro-Beta:Q8',\n",
      " 'RuadaptQwen2.5-32B-QWQ:Q8',\n",
      " 'deepseek-r1:14b',\n",
      " 'deepseek-r1:70b',\n",
      " 'deepseek-r1:7b',\n",
      " 'deepseek-r1:8b',\n",
      " 'qwen2.5-coder:1.5b',\n",
      " 'qwen2.5-coder:32b-instruct-q8_0']\n"
     ]
    }
   ],
   "source": [
    "model_names = get_all_model_names()\n",
    "\n",
    "pprint(model_names)"
   ]
  },
  {
   "cell_type": "markdown",
   "metadata": {},
   "source": [
    "To make the body of request we construct several prompts with different description of the task to the model."
   ]
  },
  {
   "cell_type": "code",
   "execution_count": 17,
   "metadata": {},
   "outputs": [],
   "source": [
    "# Classifies named entities without specifying tag types\n",
    "prompt_1 = lambda sentence: f\"Classify all named entities in a sentence and categorize their semantic meaning: '{sentence}'\"\n",
    "\n",
    "# Classifies entities using a predefined set of tags\n",
    "prompt_2 = lambda sentence, tags: f\"Classify all named entities in a sentence: '{sentence}', based on following tags: {tags}\"\n",
    "\n",
    "# Uses POS, Chunk, and NER tags for comprehensive token analysis\n",
    "prompt_3 = lambda sentence, pos_tags, chunk_tags, ner_tags: f\"Classify all named entities in a sentence: '{sentence}', \\\n",
    "based on following parts of speech tags: {pos_tags}, \\\n",
    "based on following chunk tags: {chunk_tags}, \\\n",
    "based on following named entity recognition tags: {ner_tags}\"\n",
    "\n",
    "# Assigns POS, Chunk, and NER tags to each token\n",
    "prompt_4 = lambda sentence, pos_tags, chunk_tags, ner_tags: f\"Determine each entity that can be classified and assign them a pos_tag, a chunk_tag and a ner_tag, using following lists: \\\n",
    "parts of speech tags: [{pos_tags}], \\\n",
    "chunk tags: [{chunk_tags}], \\\n",
    "named entity recognition tags: [{ner_tags}] from the following: '{sentence}'.\" \n",
    "\n",
    "# Splits entities into tokens and assigns tags at token level\n",
    "prompt_4_1 = lambda sentence, pos_tags, chunk_tags, ner_tags: f\"Determine each entity that can be classified, split it into tokens and assign them a pos_tag, a chunk_tag and a ner_tag, using following lists: \\\n",
    "parts of speech tags: [{pos_tags}], \\\n",
    "chunk tags: [{chunk_tags}], \\\n",
    "named entity recognition tags: [{ner_tags}] from the following: '{sentence}'.\" \n",
    "\n",
    "# Processes multiple sentences, assigning tags to all tokens\n",
    "prompt_5 = lambda sentences, pos_tags, chunk_tags, ner_tags: f\"\"\"Determine each entity that can be classified and assign them a pos_tag, a chunk_tag and a ner_tag, using following lists: \\\n",
    "parts of speech tags: [{pos_tags}], \\\n",
    "chunk tags: [{chunk_tags}], \\\n",
    "named entity recognition tags: [{ner_tags}] from the following sentences: {', '.join(f\"'{sentence}'\" for sentence in sentences)}.\"\"\"\n",
    "\n",
    "# Returns JSON output with POS, Chunk, and NER tags\n",
    "prompt_6 = lambda sentence, pos_tags, chunk_tags, ner_tags: f\"\"\"Identify each named entity in the sentence and classify it by the following tags:\n",
    "    - POS tags: {pos_tags}\n",
    "    - Chunk tags: {chunk_tags}\n",
    "    - NER tags: {ner_tags}\n",
    "    Sentence: '{sentence}'\n",
    "    Return the response in JSON format with the fields: text, pos_tag, chunk_tag, ner_tag.\"\"\"\n",
    "\n",
    "# Analyzes token sequences, assigning tags with JSON output\n",
    "prompt_7 = lambda tokens, pos_tags, chunk_tags, ner_tags: f\"\"\"Identify each named entity from the following sequence of tokens and classify it by the following tags:\n",
    "    - POS tags: {pos_tags}\n",
    "    - Chunk tags: {chunk_tags}\n",
    "    - NER tags: {ner_tags}\n",
    "    Tokens: '{\", \".join(f\"`{token}`\" for token in tokens)}'\n",
    "    Return the response in JSON format with the fields: text, pos_tag, chunk_tag, ner_tag.\"\"\"\n",
    "\n",
    "prompt_7_1 = lambda tokens, pos_tags, chunk_tags, ner_tags: f\"\"\"Identify each named entity from the following sequence of tokens and classify it by the following tags, each token is enquoted with \"`\" and \"`\" is not part of token:\n",
    "    - POS tags: {pos_tags}\n",
    "    - Chunk tags: {chunk_tags}\n",
    "    - NER tags: {ner_tags}\n",
    "    Tokens: '{\", \".join(f\"`{token}`\" for token in tokens)}'\n",
    "    Return the response in JSON format with the fields: tokens, pos_tags, chunk_tags, ner_tags.\n",
    "    Each token has to be evaluated. The number of tags must match the number of tokens of each token type. \n",
    "    Example of the correct output:\n",
    "    {{'chunk_tags': [11, 0, 11, 21, 11, 12, 0, 11, 13, 11, 12, 0],\n",
    "    'ner_tags': [0, 0, 5, 0, 0, 0, 0, 1, 0, 0, 0, 0],\n",
    "    'pos_tags': [21, 8, 22, 37, 22, 22, 6, 22, 15, 12, 21, 7],\n",
    "    'tokens': ['SOCCER', '-', 'JAPAN', 'GET', 'LUCKY', 'WIN', ',', 'CHINA', 'IN', 'SURPRISE', 'DEFEAT', '.']}}\"\"\"\n",
    "\n",
    "prompt_7_1_1 = lambda tokens, ner_tags: f\"\"\"Identify each named entity from the following sequence of tokens and classify it by the NER tags. Each token is enquoted with \"`\" and \"`\" is not part of token:\n",
    "    - NER tags: {ner_tags}\n",
    "    Tokens: '{\", \".join(f\"`{token}`\" for token in tokens)}'\n",
    "    Return the response in JSON format with the fields: ner_tags, tokens.\n",
    "    Each token has to be evaluated. The number of tags must match the number of tokens of each token type. \n",
    "    Example of the correct output:\n",
    "    {{'ner_tags': [0, 0, 5, 0, 0, 0, 0, 1, 0, 0, 0, 0],\n",
    "    'tokens': ['SOCCER', '-', 'JAPAN', 'GET', 'LUCKY', 'WIN', ',', 'CHINA', 'IN', 'SURPRISE', 'DEFEAT', '.']}}\"\"\"\n",
    "\n",
    "\n",
    "# Multiple token sequences with strict JSON formatting.\n",
    "prompt_7_2 = lambda tokenss, pos_tags, chunk_tags, ner_tags: f\"\"\"Identify each named entity in each sequence of tokens from list of sequences of tokens and classify it by the following tags, each token is enquoted with \"`\" and \"`\" is not part of token and each sequence is enclosed in square brackets:\n",
    "    - POS tags: {pos_tags}\n",
    "    - Chunk tags: {chunk_tags}\n",
    "    - NER tags: {ner_tags}\n",
    "    Tokens: '{\", \".join(f\"[{', '.join(f'`{token}`' for token in tokens)}]\" for tokens in tokenss)}'\n",
    "    Return the response in JSON format as list of entries where entry has fields: pos_tags, chunk_tags, ner_tags, tokens.\n",
    "    Each token has to be evaluated. The number of tags of each token type must match the number of tokens in each entry exactly.\n",
    "    Example of the correct output:\n",
    "    [\n",
    "    {{'chunk_tags': [11, 0, 11, 21, 11, 12, 0, 11, 13, 11, 12, 0],\n",
    "    'ner_tags': [0, 0, 5, 0, 0, 0, 0, 1, 0, 0, 0, 0],\n",
    "    'pos_tags': [21, 8, 22, 37, 22, 22, 6, 22, 15, 12, 21, 7],\n",
    "    'tokens': ['SOCCER', '-', 'JAPAN', 'GET', 'LUCKY', 'WIN', ',', 'CHINA', 'IN', 'SURPRISE', 'DEFEAT', '.']}}, \n",
    "    {{'chunk_tags': [11, 13, 11, 12, 12],\n",
    "    'ner_tags': [0, 0, 7, 0, 0],\n",
    "    'pos_tags': [24, 15, 16, 16, 21],\n",
    "    'tokens': ['Results', 'of', 'French', 'first', 'division']}}\n",
    "    ]\"\"\"\n",
    "\n",
    "# Expert task for multiple sequences with detailed JSON output\n",
    "prompt_7_3 = lambda tokenss, pos_tags, chunk_tags, ner_tags: f\"\"\"\n",
    "You are an expert in Named Entity Recognition (NER) and text annotation. Your task is to analyze each sequence of tokens, identify named entities, and classify them according to the following tags:\n",
    "\n",
    "### Tags:\n",
    "- **POS tags**: {pos_tags}\n",
    "- **Chunk tags**: {chunk_tags}\n",
    "- **NER tags**: {ner_tags}\n",
    "\n",
    "### Input:\n",
    "You are given a list of token sequences. Each token is enclosed in backticks (`), and each sequence is enclosed in square brackets. For example:\n",
    "`[`token1`, `token2`], [`token3`, `token4`]`\n",
    "\n",
    "### Task:\n",
    "1. For each token sequence:\n",
    "   - Analyze each token.\n",
    "   - Assign a POS tag, a Chunk tag, and a NER tag to each token.\n",
    "   - Ensure that the number of tags matches the number of tokens exactly.\n",
    "2. Return the result in JSON format as a list of entries. Each entry must have the following fields:\n",
    "   - `tokens`: List of tokens.\n",
    "   - `pos_tags`: List of POS tags for each token.\n",
    "   - `chunk_tags`: List of Chunk tags for each token.\n",
    "   - `ner_tags`: List of NER tags for each token.\n",
    "\n",
    "### Rules:\n",
    "- Each token must be evaluated.\n",
    "- The number of tags (POS, Chunk, NER) must match the number of tokens exactly.\n",
    "- Use the provided tag mappings for classification.\n",
    "\n",
    "### Example Input:\n",
    "`[`SOCCER`, `-`, `JAPAN`, `GET`, `LUCKY`, `WIN`, `,`, `CHINA`, `IN`, `SURPRISE`, `DEFEAT`, `.`], [`Results`, `of`, `French`, `first`, `division`]`\n",
    "\n",
    "### Example Output:\n",
    "```json\n",
    "[\n",
    "    {{\n",
    "        \"tokens\": [\"SOCCER\", \"-\", \"JAPAN\", \"GET\", \"LUCKY\", \"WIN\", \",\", \"CHINA\", \"IN\", \"SURPRISE\", \"DEFEAT\", \".\"],\n",
    "        \"pos_tags\": [21, 8, 22, 37, 22, 22, 6, 22, 15, 12, 21, 7],\n",
    "        \"chunk_tags\": [11, 0, 11, 21, 11, 12, 0, 11, 13, 11, 12, 0],\n",
    "        \"ner_tags\": [0, 0, 5, 0, 0, 0, 0, 1, 0, 0, 0, 0]\n",
    "    }},\n",
    "    {{\n",
    "        \"tokens\": [\"Results\", \"of\", \"French\", \"first\", \"division\"],\n",
    "        \"pos_tags\": [24, 15, 16, 16, 21],\n",
    "        \"chunk_tags\": [11, 13, 11, 12, 12],\n",
    "        \"ner_tags\": [0, 0, 7, 0, 0]\n",
    "    }}\n",
    "]\"\"\"\n",
    "\n",
    "# Only NER tagging for multiple sequences\n",
    "prompt_7_4 = lambda tokenss, ner_tags: f\"\"\"\n",
    "You are an expert in Named Entity Recognition (NER). Your task is to analyze each sequence of tokens, identify named entities, and classify them according to the following NER tags:\n",
    "\n",
    "### NER Tags:\n",
    "{ner_tags}\n",
    "\n",
    "### Input:\n",
    "You are given a list of token sequences. Each token is enclosed in backticks (`), and each sequence is enclosed in square brackets. For example:\n",
    "`[`token1`, `token2`], [`token3`, `token4`]`\n",
    "\n",
    "### Task:\n",
    "1. For each token sequence:\n",
    "   - Analyze each token.\n",
    "   - Assign a NER tag to each token.\n",
    "   - Ensure that the number of NER tags matches the number of tokens exactly.\n",
    "2. Return the result in JSON format as a list of entries. Each entry must have the following fields:\n",
    "   - `tokens`: List of tokens.\n",
    "   - `ner_tags`: List of NER tags for each token.\n",
    "\n",
    "### Rules:\n",
    "- Each token must be evaluated.\n",
    "- The number of NER tags must match the number of tokens exactly.\n",
    "- Use the provided NER tag mappings for classification.\n",
    "\n",
    "### Example Input:\n",
    "`[`SOCCER`, `-`, `JAPAN`, `GET`, `LUCKY`, `WIN`, `,`, `CHINA`, `IN`, `SURPRISE`, `DEFEAT`, `.`], [`Results`, `of`, `French`, `first`, `division`]`\n",
    "\n",
    "### Example Output:\n",
    "```json\n",
    "[\n",
    "    {{\n",
    "        \"tokens\": [\"SOCCER\", \"-\", \"JAPAN\", \"GET\", \"LUCKY\", \"WIN\", \",\", \"CHINA\", \"IN\", \"SURPRISE\", \"DEFEAT\", \".\"],\n",
    "        \"ner_tags\": [0, 0, 5, 0, 0, 0, 0, 1, 0, 0, 0, 0]\n",
    "    }},\n",
    "    {{\n",
    "        \"tokens\": [\"Results\", \"of\", \"French\", \"first\", \"division\"],\n",
    "        \"ner_tags\": [0, 0, 7, 0, 0]\n",
    "    }}\n",
    "]\"\"\"\n",
    "\n",
    "# NER tagging for a single token sequence\n",
    "prompt_8 = lambda tokens, ner_tags: f\"\"\"Identify each named entity from the following sequence of tokens and classify it by the NER tags:\n",
    "    - NER tags: {ner_tags}\n",
    "    Tokens: '{\", \".join(f\"`{token}`\" for token in tokens)}'\n",
    "    Return the response in JSON format with the fields: text, pos_tag, chunk_tag, ner_tag.\"\"\"\n",
    "\n",
    "# JSON output with text and NER tags only\n",
    "prompt_9 = lambda tokens, ner_tags: f\"\"\"Analyze the following sequence of tokens to identify and classify each named entity using the provided NER tags. Follow these instructions precisely:\n",
    "    NER Tags: {ner_tags}\n",
    "    Tokens: '{\", \".join(f\"{token}\" for token in tokens)}'\n",
    "    Return your results as a valid JSON array. Each object in the array must include exactly two fields:\n",
    "\n",
    "    text: The text of the identified named entity.\n",
    "    ner_tag: The corresponding NER tag from the list provided.\n",
    "    Do not include any extra information or commentary in your output.\"\"\"\n",
    "\n",
    "# JSON output with text and NER tags, emphasizing precision\n",
    "prompt_10 = lambda tokens, ner_tags: f\"\"\"Perform Named Entity Recognition (NER) on the following sequence of tokens. Identify each named entity and classify it using the provided NER tags.\n",
    "    NER Tags: {ner_tags}\n",
    "    Tokens: {\", \".join(f\"'{token}'\" for token in tokens)}\n",
    "    Return the response in a structured JSON format with the following fields for each entity:\n",
    "    text: The identified named entity (exact text from the tokens).\n",
    "    ner_tag: The corresponding NER tag for the entity.\n",
    "    Ensure the output is precise and adheres strictly to the provided NER tags and token sequence.\"\"\"\n"
   ]
  },
  {
   "cell_type": "markdown",
   "metadata": {},
   "source": [
    "Function to generate the request's payload, accepting prompt as an argument:"
   ]
  },
  {
   "cell_type": "code",
   "execution_count": 18,
   "metadata": {},
   "outputs": [],
   "source": [
    "def perform_request(prompt: str, model: str = \"llama3.3:latest\"):\n",
    "    payload = {\n",
    "        \"model\": model,\n",
    "        \"messages\": [{\"role\": \"user\", \"content\": prompt}],\n",
    "        \"format\": \"json\"\n",
    "    }\n",
    "    try:\n",
    "        response = requests.post(API_URL, headers=headers, json=payload)\n",
    "        response.raise_for_status()\n",
    "        return response.json()\n",
    "    except requests.exceptions.RequestException as e:\n",
    "        print(f\"Request failed: {e}\")\n",
    "        return None\n",
    "\n",
    "def perform_requests_parallel(prompts, model: str = \"llama3.3:latest\"):\n",
    "    with multiprocessing.Pool(10) as p:\n",
    "        results = p.starmap(perform_request, [(prompt, model) for prompt in prompts])\n",
    "    return results"
   ]
  },
  {
   "cell_type": "markdown",
   "metadata": {},
   "source": [
    "The example response with prompt_4 we get using perform_request:\n",
    "\n",
    "```python\n",
    "single_sentence = tuple(generate_corps(1, \"train\"))\n",
    "single_prompt = prompt_4(single_sentence, POS_TAGS, CHUNK_TAGS, NER_TAGS)\n",
    "\n",
    "response = perform_request(single_prompt)\n",
    "pprint(response)\n",
    "pprint((json.loads(response[\"choices\"][0][\"message\"][\"content\"]), single_prompt))\n",
    "```"
   ]
  },
  {
   "cell_type": "markdown",
   "metadata": {},
   "source": [
    "To make multiprocessing request to make the responces from model faster (if only not the server allow to perform requests from one API one-by-one).\n",
    "\n",
    "```python\n",
    "single_sentence = tuple(generate_corps(1, \"train\"))\n",
    "single_prompt = prompt_4(single_sentence, POS_TAGS, CHUNK_TAGS, NER_TAGS)\n",
    "\n",
    "response = perform_request(single_prompt)\n",
    "pprint(response)\n",
    "pprint((json.loads(response[\"choices\"][0][\"message\"][\"content\"]), single_prompt))\n",
    "```"
   ]
  },
  {
   "cell_type": "markdown",
   "metadata": {},
   "source": [
    "Let's transform into dictionary the results we got from the prompt_5:\n",
    "\n",
    "(In the prompt_5 we are trying to send to the model multiply sentences in a single request)\n",
    "\n",
    "```python\n",
    "pprint([(json.loads(response[\"choices\"][0][\"message\"][\"content\"] ), corp) for response, corp in zip(responses, corps)])\n",
    "\n",
    "```"
   ]
  },
  {
   "cell_type": "markdown",
   "metadata": {},
   "source": [
    "Sending model too much sentences to execute maybe too long, this prompt example was working more than 10 minutes:\n",
    "\n",
    "```python\n",
    "prompts = tuple(prompt_4_1(sentence, POS_TAGS, CHUNK_TAGS, NER_TAGS) for sentence in corps)\n",
    "with multiprocessing.Pool(10) as p: \n",
    "    responses = p.map(perform_request, prompts)\n",
    "```"
   ]
  },
  {
   "cell_type": "markdown",
   "metadata": {},
   "source": [
    "The same we can test our model with prompt_6:\n",
    "\n",
    "```python\n",
    "prompts = tuple(prompt_6(corp, POS_TAGS, CHUNK_TAGS, NER_TAGS) for corp in corps )\n",
    "with multiprocessing.Pool(10) as p: \n",
    "    responses = p.map(perform_request, prompts)\n",
    "\n",
    "pprint([(json.loads(response[\"choices\"][0][\"message\"][\"content\"] ), corp) for response, corp in zip(responses, corps)])\n",
    "```"
   ]
  },
  {
   "cell_type": "markdown",
   "metadata": {},
   "source": [
    "## Metrics"
   ]
  },
  {
   "cell_type": "markdown",
   "metadata": {},
   "source": [
    "We will calculate free metrics from the sklearn: `precision`, `recall`, `f1`."
   ]
  },
  {
   "cell_type": "code",
   "execution_count": 19,
   "metadata": {},
   "outputs": [],
   "source": [
    "def calculate_metrics(true_labels, predicted_labels):\n",
    "    precision = precision_score(true_labels, predicted_labels, average='macro', zero_division=0)\n",
    "    recall = recall_score(true_labels, predicted_labels, average='macro', zero_division=0)\n",
    "    f1 = f1_score(true_labels, predicted_labels, average='macro', zero_division=0)\n",
    "    return precision, recall, f1"
   ]
  },
  {
   "cell_type": "markdown",
   "metadata": {},
   "source": [
    "Make a SHIFT for the random sentences to appear while testing:\n"
   ]
  },
  {
   "cell_type": "code",
   "execution_count": 20,
   "metadata": {},
   "outputs": [],
   "source": [
    "SHIFT = random.randint(0, 100)"
   ]
  },
  {
   "cell_type": "markdown",
   "metadata": {},
   "source": [
    "To be able to use implemented metrics we will generate true metrics: "
   ]
  },
  {
   "cell_type": "code",
   "execution_count": 21,
   "metadata": {},
   "outputs": [],
   "source": [
    "def generate_metrics_data(dataset, model, num_examples=10):\n",
    "    true_labels = []\n",
    "    predicted_labels = []\n",
    "    \n",
    "    for i in map(lambda x: x + SHIFT, range(num_examples)):\n",
    "        # print(i)\n",
    "        # sentence = ' '.join(dataset[\"test\"][i][\"tokens\"])\n",
    "        tokens = dataset[\"test\"][i][\"tokens\"]\n",
    "        \n",
    "        prompt = prompt_7_1(tokens, POS_TAGS, CHUNK_TAGS, NER_TAGS)\n",
    "        # prompt = prompt_9(tokens, NER_TAGS)\n",
    "        response = perform_request(prompt, model)\n",
    "        \n",
    "        if response and \"choices\" in response:\n",
    "            predicted_entities = json.loads(response[\"choices\"][0][\"message\"][\"content\"])\n",
    "            true_entities = dataset[\"test\"][i]\n",
    "            predicted_labels.extend(predicted_entities[\"ner_tags\"])\n",
    "\n",
    "            true_labels.extend(true_entities[\"ner_tags\"])\n",
    "    \n",
    "    return true_labels, predicted_labels\n",
    "\n",
    "def print_metrics(true_labels, predicted_labels):\n",
    "    precision, recall, f1 = calculate_metrics(true_labels, predicted_labels)\n",
    "    print(f\"Metrics on test set:\\nPrecision: {precision:.3f}, Recall: {recall:.3f}, F1: {f1:.3f}\")\n",
    "\n",
    "\n",
    "# Variations of the original function generate_metrics_data to use it with prompts with concateneted string OR parallel prompting\n",
    "def generate_metrics_data_prompt_many(dataset, model, num_examples=10):\n",
    "    true_labels = []\n",
    "    predicted_labels = []\n",
    "    indicies = tuple(map(lambda x: x + SHIFT, range(num_examples)))\n",
    "    tokenss = [dataset[\"test\"][i][\"tokens\"] for i in indicies]\n",
    "\n",
    "    prompt = prompt_7_2(tokenss, POS_TAGS, CHUNK_TAGS, NER_TAGS)\n",
    "    response = perform_request(prompt, model)\n",
    "    pprint(response)\n",
    "\n",
    "    if response and \"choices\" in response:\n",
    "        shlepa = json.loads(response['choices'][0]['message']['content'])\n",
    "        answers = next(iter(shlepa.values()))\n",
    "        for i, predicted_entities in zip(indicies, answers):\n",
    "            true_entities = dataset[\"test\"][i]\n",
    "            predicted_labels.extend(predicted_entities[\"ner_tags\"])\n",
    "            true_labels.extend(true_entities[\"ner_tags\"])\n",
    "    \n",
    "    return true_labels, predicted_labels\n",
    "\n",
    "\n",
    "def generate_metrics_data_parallel(dataset, model, num_examples=10):\n",
    "    true_labels = []\n",
    "    predicted_labels = []\n",
    "    responses = perform_requests_parallel((prompt_7_1(dataset[\"test\"][i][\"tokens\"], POS_TAGS, CHUNK_TAGS, NER_TAGS) for i in map(lambda x: x + SHIFT, range(num_examples))), model)\n",
    "    \n",
    "    for response in responses:        \n",
    "        if response and \"choices\" in response:\n",
    "            predicted_entities = json.loads(response[\"choices\"][0][\"message\"][\"content\"])\n",
    "            true_entities = dataset[\"test\"][i]\n",
    "            # print(\"----- Predicted: \")\n",
    "            # pprint(predicted_entities)\n",
    "            # print(\"----- True: \")\n",
    "            # pprint(true_entities)\n",
    "            # pprint(tuple(itertools.zip_longest(true_entities['tokens'], predicted_entities['tokens'], fillvalue=None)))\n",
    "            # pprint(tuple(itertools.zip_longest(true_entities[\"ner_tags\"], predicted_entities[\"ner_tags\"], fillvalue=None)))\n",
    "\n",
    "            # print(tuple(len(t) for t in true_entities.values()))\n",
    "            # print(tuple(len(t) for t in predicted_entities.values()))\n",
    "\n",
    "            # entities_list = predicted_entities.get(\"entities\", [])\n",
    "            predicted_labels.extend(predicted_entities[\"ner_tags\"])\n",
    "\n",
    "            true_labels.extend(true_entities[\"ner_tags\"])\n",
    "    \n",
    "    return true_labels, predicted_labels\n"
   ]
  },
  {
   "cell_type": "markdown",
   "metadata": {},
   "source": [
    "Examples of using `generate_metrics_data` with different prompts:\n",
    "\n",
    "```python\n",
    "true_labels, predicted_labels = generate_metrics_data(dataset, \"llama3.3:latest\", num_examples=1)\n",
    "\n",
    "true_labels, predicted_labels = generate_metrics_data_prompt_many(dataset, \"mistral-large:123b\", num_examples=2)\n",
    "```\n",
    "\n",
    "If we are sending more examples with this function at once, the execution will hit the timeout. E.g. with this\n",
    "\n",
    "```python\n",
    "true_labels, predicted_labels = generate_metrics_data_parallel(dataset, \"llama3.3:latest\", num_examples=100)\n",
    "```\n",
    "\n",
    "\n",
    "To print the results call:\n",
    "```python\n",
    "print_metrics(true_labels, predicted_labels)\n",
    "```"
   ]
  },
  {
   "cell_type": "markdown",
   "metadata": {},
   "source": [
    "## Sending requests to model\n",
    "\n",
    "The main problem occured while collecting mark up from the model to train BERT in the next section. So it is necessery to build th background running script to collect answers in the outer file."
   ]
  },
  {
   "cell_type": "code",
   "execution_count": 22,
   "metadata": {},
   "outputs": [],
   "source": [
    "@dataclass\n",
    "class Request:\n",
    "    prompt: str\n",
    "    tokens: list[str]\n",
    "    correct: list[int]\n",
    "    left: int = 3\n",
    "\n",
    "class PromptLoader: \n",
    "    def __init__(self, prompts: list[tuple[str, list[str], list[int]]], model: str = \"llama3.3:latest\", save_path: str = \"Prompts.pickle\"):\n",
    "        self._prompt_queue = deque(Request(*prompt) for prompt in prompts)\n",
    "        self.fetched = {}\n",
    "        self._model = model\n",
    "        self._save_path = save_path\n",
    "    \n",
    "    def _redo(self, prompt):\n",
    "        prompt.left -= 1\n",
    "        if prompt.left != 0:\n",
    "            self._prompt_queue.append(prompt)\n",
    "    \n",
    "    def fetch_next(self):\n",
    "        prompt = self._prompt_queue.popleft()\n",
    "        print(f\"{len(self.fetched)}         {prompt}\")\n",
    "        try:\n",
    "            response = perform_request(prompt.prompt, self._model)\n",
    "        except KeyboardInterrupt as e:\n",
    "            self.save(self._save_path)\n",
    "            raise e\n",
    "\n",
    "        if response is None:\n",
    "            self._redo(prompt)\n",
    "            return \n",
    "        \n",
    "        predicted_labels = []\n",
    "\n",
    "        try:\n",
    "            predicted_entities = json.loads(response[\"choices\"][0][\"message\"][\"content\"])\n",
    "            predicted_labels.extend(predicted_entities[\"ner_tags\"])\n",
    "        except KeyError:\n",
    "            self._redo(prompt)\n",
    "            return \n",
    "\n",
    "        if len(predicted_labels) != len(prompt.correct) or not all(tp == tc for tc, tp, in zip(prompt.tokens, predicted_entities[\"tokens\"])):\n",
    "            self._redo(prompt)\n",
    "            return \n",
    "                \n",
    "        self.fetched[prompt.prompt] = {\"correct\": prompt.correct, \"predicted\": predicted_labels, \"metric\": calculate_metrics(prompt.correct, predicted_labels)}\n",
    "\n",
    "    def fetch_all(self):\n",
    "        while self._prompt_queue:\n",
    "            self.fetch_next()\n",
    "            \n",
    "    def save(self, path: os.PathLike):\n",
    "        with open(path, \"wb\") as file:\n",
    "            pickle.dump(self, file, protocol=pickle.HIGHEST_PROTOCOL)\n",
    "\n",
    "    @staticmethod\n",
    "    def load(path: os.PathLike = \"Prompts.pickle\") -> \"PromptLoader\":\n",
    "        loaded_file = None\n",
    "        with open(path, \"rb\") as file:\n",
    "            loaded_file = pickle.load(file)\n",
    "        return loaded_file\n"
   ]
  },
  {
   "cell_type": "markdown",
   "metadata": {},
   "source": [
    "Make the prompt prototype to send to the model:\n"
   ]
  },
  {
   "cell_type": "code",
   "execution_count": 28,
   "metadata": {},
   "outputs": [],
   "source": [
    "# # prompts = [(prompt_7_1(**(entry.pop('id') and entry)), entry[\"tokens\"], entry['ner_tags']) for entry in dataset[\"train\"]]\n",
    "prompts = [(prompt_7_1_1(entry[\"tokens\"], NER_TAGS), entry[\"tokens\"], entry['ner_tags']) for entry in dataset[\"train\"]]\n",
    "\n",
    "fetcher = PromptLoader(prompts, 'mistral-large:123b')"
   ]
  },
  {
   "cell_type": "markdown",
   "metadata": {},
   "source": [
    "To load already gotten answers:"
   ]
  },
  {
   "cell_type": "code",
   "execution_count": 24,
   "metadata": {},
   "outputs": [],
   "source": [
    "fetcher = PromptLoader.load()"
   ]
  },
  {
   "cell_type": "markdown",
   "metadata": {},
   "source": [
    "Start collecting the answers:"
   ]
  },
  {
   "cell_type": "code",
   "execution_count": 25,
   "metadata": {},
   "outputs": [
    {
     "name": "stdout",
     "output_type": "stream",
     "text": [
      "0         Request(prompt='Identify each named entity from the following sequence of tokens and classify it by the NER tags. Each token is enquoted with \"`\" and \"`\" is not part of token:\\n    - NER tags: {\\'O\\': 0, \\'B-PER\\': 1, \\'I-PER\\': 2, \\'B-ORG\\': 3, \\'I-ORG\\': 4, \\'B-LOC\\': 5, \\'I-LOC\\': 6, \\'B-MISC\\': 7, \\'I-MISC\\': 8}\\n    Tokens: \\'`Germany`, `imported`, `47,600`, `sheep`, `from`, `Britain`, `last`, `year`, `,`, `nearly`, `half`, `of`, `total`, `imports`, `.`\\'\\n    Return the response in JSON format with the fields: ner_tags, tokens.\\n    Each token has to be evaluated. The number of tags must match the number of tokens of each token type. \\n    Example of the correct output:\\n    {\\'ner_tags\\': [0, 0, 5, 0, 0, 0, 0, 1, 0, 0, 0, 0],\\n    \\'tokens\\': [\\'SOCCER\\', \\'-\\', \\'JAPAN\\', \\'GET\\', \\'LUCKY\\', \\'WIN\\', \\',\\', \\'CHINA\\', \\'IN\\', \\'SURPRISE\\', \\'DEFEAT\\', \\'.\\']}', tokens=['Germany', 'imported', '47,600', 'sheep', 'from', 'Britain', 'last', 'year', ',', 'nearly', 'half', 'of', 'total', 'imports', '.'], correct=[5, 0, 0, 0, 0, 5, 0, 0, 0, 0, 0, 0, 0, 0, 0], left=3)\n"
     ]
    },
    {
     "ename": "KeyboardInterrupt",
     "evalue": "",
     "output_type": "error",
     "traceback": [
      "\u001b[0;31m---------------------------------------------------------------------------\u001b[0m",
      "\u001b[0;31mKeyboardInterrupt\u001b[0m                         Traceback (most recent call last)",
      "Cell \u001b[0;32mIn[25], line 1\u001b[0m\n\u001b[0;32m----> 1\u001b[0m \u001b[43mfetcher\u001b[49m\u001b[38;5;241;43m.\u001b[39;49m\u001b[43mfetch_all\u001b[49m\u001b[43m(\u001b[49m\u001b[43m)\u001b[49m\n",
      "Cell \u001b[0;32mIn[22], line 50\u001b[0m, in \u001b[0;36mPromptLoader.fetch_all\u001b[0;34m(self)\u001b[0m\n\u001b[1;32m     48\u001b[0m \u001b[38;5;28;01mdef\u001b[39;00m\u001b[38;5;250m \u001b[39m\u001b[38;5;21mfetch_all\u001b[39m(\u001b[38;5;28mself\u001b[39m):\n\u001b[1;32m     49\u001b[0m     \u001b[38;5;28;01mwhile\u001b[39;00m \u001b[38;5;28mself\u001b[39m\u001b[38;5;241m.\u001b[39m_prompt_queue:\n\u001b[0;32m---> 50\u001b[0m         \u001b[38;5;28;43mself\u001b[39;49m\u001b[38;5;241;43m.\u001b[39;49m\u001b[43mfetch_next\u001b[49m\u001b[43m(\u001b[49m\u001b[43m)\u001b[49m\n",
      "Cell \u001b[0;32mIn[22], line 27\u001b[0m, in \u001b[0;36mPromptLoader.fetch_next\u001b[0;34m(self)\u001b[0m\n\u001b[1;32m     25\u001b[0m \u001b[38;5;28;01mexcept\u001b[39;00m \u001b[38;5;167;01mKeyboardInterrupt\u001b[39;00m \u001b[38;5;28;01mas\u001b[39;00m e:\n\u001b[1;32m     26\u001b[0m     \u001b[38;5;28mself\u001b[39m\u001b[38;5;241m.\u001b[39msave(\u001b[38;5;28mself\u001b[39m\u001b[38;5;241m.\u001b[39m_save_path)\n\u001b[0;32m---> 27\u001b[0m     \u001b[38;5;28;01mraise\u001b[39;00m e\n\u001b[1;32m     29\u001b[0m \u001b[38;5;28;01mif\u001b[39;00m response \u001b[38;5;129;01mis\u001b[39;00m \u001b[38;5;28;01mNone\u001b[39;00m:\n\u001b[1;32m     30\u001b[0m     \u001b[38;5;28mself\u001b[39m\u001b[38;5;241m.\u001b[39m_redo(prompt)\n",
      "Cell \u001b[0;32mIn[22], line 24\u001b[0m, in \u001b[0;36mPromptLoader.fetch_next\u001b[0;34m(self)\u001b[0m\n\u001b[1;32m     22\u001b[0m \u001b[38;5;28mprint\u001b[39m(\u001b[38;5;124mf\u001b[39m\u001b[38;5;124m\"\u001b[39m\u001b[38;5;132;01m{\u001b[39;00m\u001b[38;5;28mlen\u001b[39m(\u001b[38;5;28mself\u001b[39m\u001b[38;5;241m.\u001b[39mfetched)\u001b[38;5;132;01m}\u001b[39;00m\u001b[38;5;124m         \u001b[39m\u001b[38;5;132;01m{\u001b[39;00mprompt\u001b[38;5;132;01m}\u001b[39;00m\u001b[38;5;124m\"\u001b[39m)\n\u001b[1;32m     23\u001b[0m \u001b[38;5;28;01mtry\u001b[39;00m:\n\u001b[0;32m---> 24\u001b[0m     response \u001b[38;5;241m=\u001b[39m \u001b[43mperform_request\u001b[49m\u001b[43m(\u001b[49m\u001b[43mprompt\u001b[49m\u001b[38;5;241;43m.\u001b[39;49m\u001b[43mprompt\u001b[49m\u001b[43m,\u001b[49m\u001b[43m \u001b[49m\u001b[38;5;28;43mself\u001b[39;49m\u001b[38;5;241;43m.\u001b[39;49m\u001b[43m_model\u001b[49m\u001b[43m)\u001b[49m\n\u001b[1;32m     25\u001b[0m \u001b[38;5;28;01mexcept\u001b[39;00m \u001b[38;5;167;01mKeyboardInterrupt\u001b[39;00m \u001b[38;5;28;01mas\u001b[39;00m e:\n\u001b[1;32m     26\u001b[0m     \u001b[38;5;28mself\u001b[39m\u001b[38;5;241m.\u001b[39msave(\u001b[38;5;28mself\u001b[39m\u001b[38;5;241m.\u001b[39m_save_path)\n",
      "Cell \u001b[0;32mIn[18], line 8\u001b[0m, in \u001b[0;36mperform_request\u001b[0;34m(prompt, model)\u001b[0m\n\u001b[1;32m      2\u001b[0m payload \u001b[38;5;241m=\u001b[39m {\n\u001b[1;32m      3\u001b[0m     \u001b[38;5;124m\"\u001b[39m\u001b[38;5;124mmodel\u001b[39m\u001b[38;5;124m\"\u001b[39m: model,\n\u001b[1;32m      4\u001b[0m     \u001b[38;5;124m\"\u001b[39m\u001b[38;5;124mmessages\u001b[39m\u001b[38;5;124m\"\u001b[39m: [{\u001b[38;5;124m\"\u001b[39m\u001b[38;5;124mrole\u001b[39m\u001b[38;5;124m\"\u001b[39m: \u001b[38;5;124m\"\u001b[39m\u001b[38;5;124muser\u001b[39m\u001b[38;5;124m\"\u001b[39m, \u001b[38;5;124m\"\u001b[39m\u001b[38;5;124mcontent\u001b[39m\u001b[38;5;124m\"\u001b[39m: prompt}],\n\u001b[1;32m      5\u001b[0m     \u001b[38;5;124m\"\u001b[39m\u001b[38;5;124mformat\u001b[39m\u001b[38;5;124m\"\u001b[39m: \u001b[38;5;124m\"\u001b[39m\u001b[38;5;124mjson\u001b[39m\u001b[38;5;124m\"\u001b[39m\n\u001b[1;32m      6\u001b[0m }\n\u001b[1;32m      7\u001b[0m \u001b[38;5;28;01mtry\u001b[39;00m:\n\u001b[0;32m----> 8\u001b[0m     response \u001b[38;5;241m=\u001b[39m \u001b[43mrequests\u001b[49m\u001b[38;5;241;43m.\u001b[39;49m\u001b[43mpost\u001b[49m\u001b[43m(\u001b[49m\u001b[43mAPI_URL\u001b[49m\u001b[43m,\u001b[49m\u001b[43m \u001b[49m\u001b[43mheaders\u001b[49m\u001b[38;5;241;43m=\u001b[39;49m\u001b[43mheaders\u001b[49m\u001b[43m,\u001b[49m\u001b[43m \u001b[49m\u001b[43mjson\u001b[49m\u001b[38;5;241;43m=\u001b[39;49m\u001b[43mpayload\u001b[49m\u001b[43m)\u001b[49m\n\u001b[1;32m      9\u001b[0m     response\u001b[38;5;241m.\u001b[39mraise_for_status()\n\u001b[1;32m     10\u001b[0m     \u001b[38;5;28;01mreturn\u001b[39;00m response\u001b[38;5;241m.\u001b[39mjson()\n",
      "File \u001b[0;32m~/.local/lib/python3.10/site-packages/requests/api.py:115\u001b[0m, in \u001b[0;36mpost\u001b[0;34m(url, data, json, **kwargs)\u001b[0m\n\u001b[1;32m    103\u001b[0m \u001b[38;5;28;01mdef\u001b[39;00m\u001b[38;5;250m \u001b[39m\u001b[38;5;21mpost\u001b[39m(url, data\u001b[38;5;241m=\u001b[39m\u001b[38;5;28;01mNone\u001b[39;00m, json\u001b[38;5;241m=\u001b[39m\u001b[38;5;28;01mNone\u001b[39;00m, \u001b[38;5;241m*\u001b[39m\u001b[38;5;241m*\u001b[39mkwargs):\n\u001b[1;32m    104\u001b[0m \u001b[38;5;250m    \u001b[39m\u001b[38;5;124mr\u001b[39m\u001b[38;5;124;03m\"\"\"Sends a POST request.\u001b[39;00m\n\u001b[1;32m    105\u001b[0m \n\u001b[1;32m    106\u001b[0m \u001b[38;5;124;03m    :param url: URL for the new :class:`Request` object.\u001b[39;00m\n\u001b[0;32m   (...)\u001b[0m\n\u001b[1;32m    112\u001b[0m \u001b[38;5;124;03m    :rtype: requests.Response\u001b[39;00m\n\u001b[1;32m    113\u001b[0m \u001b[38;5;124;03m    \"\"\"\u001b[39;00m\n\u001b[0;32m--> 115\u001b[0m     \u001b[38;5;28;01mreturn\u001b[39;00m \u001b[43mrequest\u001b[49m\u001b[43m(\u001b[49m\u001b[38;5;124;43m\"\u001b[39;49m\u001b[38;5;124;43mpost\u001b[39;49m\u001b[38;5;124;43m\"\u001b[39;49m\u001b[43m,\u001b[49m\u001b[43m \u001b[49m\u001b[43murl\u001b[49m\u001b[43m,\u001b[49m\u001b[43m \u001b[49m\u001b[43mdata\u001b[49m\u001b[38;5;241;43m=\u001b[39;49m\u001b[43mdata\u001b[49m\u001b[43m,\u001b[49m\u001b[43m \u001b[49m\u001b[43mjson\u001b[49m\u001b[38;5;241;43m=\u001b[39;49m\u001b[43mjson\u001b[49m\u001b[43m,\u001b[49m\u001b[43m \u001b[49m\u001b[38;5;241;43m*\u001b[39;49m\u001b[38;5;241;43m*\u001b[39;49m\u001b[43mkwargs\u001b[49m\u001b[43m)\u001b[49m\n",
      "File \u001b[0;32m~/.local/lib/python3.10/site-packages/requests/api.py:59\u001b[0m, in \u001b[0;36mrequest\u001b[0;34m(method, url, **kwargs)\u001b[0m\n\u001b[1;32m     55\u001b[0m \u001b[38;5;66;03m# By using the 'with' statement we are sure the session is closed, thus we\u001b[39;00m\n\u001b[1;32m     56\u001b[0m \u001b[38;5;66;03m# avoid leaving sockets open which can trigger a ResourceWarning in some\u001b[39;00m\n\u001b[1;32m     57\u001b[0m \u001b[38;5;66;03m# cases, and look like a memory leak in others.\u001b[39;00m\n\u001b[1;32m     58\u001b[0m \u001b[38;5;28;01mwith\u001b[39;00m sessions\u001b[38;5;241m.\u001b[39mSession() \u001b[38;5;28;01mas\u001b[39;00m session:\n\u001b[0;32m---> 59\u001b[0m     \u001b[38;5;28;01mreturn\u001b[39;00m \u001b[43msession\u001b[49m\u001b[38;5;241;43m.\u001b[39;49m\u001b[43mrequest\u001b[49m\u001b[43m(\u001b[49m\u001b[43mmethod\u001b[49m\u001b[38;5;241;43m=\u001b[39;49m\u001b[43mmethod\u001b[49m\u001b[43m,\u001b[49m\u001b[43m \u001b[49m\u001b[43murl\u001b[49m\u001b[38;5;241;43m=\u001b[39;49m\u001b[43murl\u001b[49m\u001b[43m,\u001b[49m\u001b[43m \u001b[49m\u001b[38;5;241;43m*\u001b[39;49m\u001b[38;5;241;43m*\u001b[39;49m\u001b[43mkwargs\u001b[49m\u001b[43m)\u001b[49m\n",
      "File \u001b[0;32m~/.local/lib/python3.10/site-packages/requests/sessions.py:589\u001b[0m, in \u001b[0;36mSession.request\u001b[0;34m(self, method, url, params, data, headers, cookies, files, auth, timeout, allow_redirects, proxies, hooks, stream, verify, cert, json)\u001b[0m\n\u001b[1;32m    584\u001b[0m send_kwargs \u001b[38;5;241m=\u001b[39m {\n\u001b[1;32m    585\u001b[0m     \u001b[38;5;124m\"\u001b[39m\u001b[38;5;124mtimeout\u001b[39m\u001b[38;5;124m\"\u001b[39m: timeout,\n\u001b[1;32m    586\u001b[0m     \u001b[38;5;124m\"\u001b[39m\u001b[38;5;124mallow_redirects\u001b[39m\u001b[38;5;124m\"\u001b[39m: allow_redirects,\n\u001b[1;32m    587\u001b[0m }\n\u001b[1;32m    588\u001b[0m send_kwargs\u001b[38;5;241m.\u001b[39mupdate(settings)\n\u001b[0;32m--> 589\u001b[0m resp \u001b[38;5;241m=\u001b[39m \u001b[38;5;28;43mself\u001b[39;49m\u001b[38;5;241;43m.\u001b[39;49m\u001b[43msend\u001b[49m\u001b[43m(\u001b[49m\u001b[43mprep\u001b[49m\u001b[43m,\u001b[49m\u001b[43m \u001b[49m\u001b[38;5;241;43m*\u001b[39;49m\u001b[38;5;241;43m*\u001b[39;49m\u001b[43msend_kwargs\u001b[49m\u001b[43m)\u001b[49m\n\u001b[1;32m    591\u001b[0m \u001b[38;5;28;01mreturn\u001b[39;00m resp\n",
      "File \u001b[0;32m~/.local/lib/python3.10/site-packages/requests/sessions.py:703\u001b[0m, in \u001b[0;36mSession.send\u001b[0;34m(self, request, **kwargs)\u001b[0m\n\u001b[1;32m    700\u001b[0m start \u001b[38;5;241m=\u001b[39m preferred_clock()\n\u001b[1;32m    702\u001b[0m \u001b[38;5;66;03m# Send the request\u001b[39;00m\n\u001b[0;32m--> 703\u001b[0m r \u001b[38;5;241m=\u001b[39m \u001b[43madapter\u001b[49m\u001b[38;5;241;43m.\u001b[39;49m\u001b[43msend\u001b[49m\u001b[43m(\u001b[49m\u001b[43mrequest\u001b[49m\u001b[43m,\u001b[49m\u001b[43m \u001b[49m\u001b[38;5;241;43m*\u001b[39;49m\u001b[38;5;241;43m*\u001b[39;49m\u001b[43mkwargs\u001b[49m\u001b[43m)\u001b[49m\n\u001b[1;32m    705\u001b[0m \u001b[38;5;66;03m# Total elapsed time of the request (approximately)\u001b[39;00m\n\u001b[1;32m    706\u001b[0m elapsed \u001b[38;5;241m=\u001b[39m preferred_clock() \u001b[38;5;241m-\u001b[39m start\n",
      "File \u001b[0;32m~/.local/lib/python3.10/site-packages/requests/adapters.py:667\u001b[0m, in \u001b[0;36mHTTPAdapter.send\u001b[0;34m(self, request, stream, timeout, verify, cert, proxies)\u001b[0m\n\u001b[1;32m    664\u001b[0m     timeout \u001b[38;5;241m=\u001b[39m TimeoutSauce(connect\u001b[38;5;241m=\u001b[39mtimeout, read\u001b[38;5;241m=\u001b[39mtimeout)\n\u001b[1;32m    666\u001b[0m \u001b[38;5;28;01mtry\u001b[39;00m:\n\u001b[0;32m--> 667\u001b[0m     resp \u001b[38;5;241m=\u001b[39m \u001b[43mconn\u001b[49m\u001b[38;5;241;43m.\u001b[39;49m\u001b[43murlopen\u001b[49m\u001b[43m(\u001b[49m\n\u001b[1;32m    668\u001b[0m \u001b[43m        \u001b[49m\u001b[43mmethod\u001b[49m\u001b[38;5;241;43m=\u001b[39;49m\u001b[43mrequest\u001b[49m\u001b[38;5;241;43m.\u001b[39;49m\u001b[43mmethod\u001b[49m\u001b[43m,\u001b[49m\n\u001b[1;32m    669\u001b[0m \u001b[43m        \u001b[49m\u001b[43murl\u001b[49m\u001b[38;5;241;43m=\u001b[39;49m\u001b[43murl\u001b[49m\u001b[43m,\u001b[49m\n\u001b[1;32m    670\u001b[0m \u001b[43m        \u001b[49m\u001b[43mbody\u001b[49m\u001b[38;5;241;43m=\u001b[39;49m\u001b[43mrequest\u001b[49m\u001b[38;5;241;43m.\u001b[39;49m\u001b[43mbody\u001b[49m\u001b[43m,\u001b[49m\n\u001b[1;32m    671\u001b[0m \u001b[43m        \u001b[49m\u001b[43mheaders\u001b[49m\u001b[38;5;241;43m=\u001b[39;49m\u001b[43mrequest\u001b[49m\u001b[38;5;241;43m.\u001b[39;49m\u001b[43mheaders\u001b[49m\u001b[43m,\u001b[49m\n\u001b[1;32m    672\u001b[0m \u001b[43m        \u001b[49m\u001b[43mredirect\u001b[49m\u001b[38;5;241;43m=\u001b[39;49m\u001b[38;5;28;43;01mFalse\u001b[39;49;00m\u001b[43m,\u001b[49m\n\u001b[1;32m    673\u001b[0m \u001b[43m        \u001b[49m\u001b[43massert_same_host\u001b[49m\u001b[38;5;241;43m=\u001b[39;49m\u001b[38;5;28;43;01mFalse\u001b[39;49;00m\u001b[43m,\u001b[49m\n\u001b[1;32m    674\u001b[0m \u001b[43m        \u001b[49m\u001b[43mpreload_content\u001b[49m\u001b[38;5;241;43m=\u001b[39;49m\u001b[38;5;28;43;01mFalse\u001b[39;49;00m\u001b[43m,\u001b[49m\n\u001b[1;32m    675\u001b[0m \u001b[43m        \u001b[49m\u001b[43mdecode_content\u001b[49m\u001b[38;5;241;43m=\u001b[39;49m\u001b[38;5;28;43;01mFalse\u001b[39;49;00m\u001b[43m,\u001b[49m\n\u001b[1;32m    676\u001b[0m \u001b[43m        \u001b[49m\u001b[43mretries\u001b[49m\u001b[38;5;241;43m=\u001b[39;49m\u001b[38;5;28;43mself\u001b[39;49m\u001b[38;5;241;43m.\u001b[39;49m\u001b[43mmax_retries\u001b[49m\u001b[43m,\u001b[49m\n\u001b[1;32m    677\u001b[0m \u001b[43m        \u001b[49m\u001b[43mtimeout\u001b[49m\u001b[38;5;241;43m=\u001b[39;49m\u001b[43mtimeout\u001b[49m\u001b[43m,\u001b[49m\n\u001b[1;32m    678\u001b[0m \u001b[43m        \u001b[49m\u001b[43mchunked\u001b[49m\u001b[38;5;241;43m=\u001b[39;49m\u001b[43mchunked\u001b[49m\u001b[43m,\u001b[49m\n\u001b[1;32m    679\u001b[0m \u001b[43m    \u001b[49m\u001b[43m)\u001b[49m\n\u001b[1;32m    681\u001b[0m \u001b[38;5;28;01mexcept\u001b[39;00m (ProtocolError, \u001b[38;5;167;01mOSError\u001b[39;00m) \u001b[38;5;28;01mas\u001b[39;00m err:\n\u001b[1;32m    682\u001b[0m     \u001b[38;5;28;01mraise\u001b[39;00m \u001b[38;5;167;01mConnectionError\u001b[39;00m(err, request\u001b[38;5;241m=\u001b[39mrequest)\n",
      "File \u001b[0;32m/usr/lib/python3/dist-packages/urllib3/connectionpool.py:700\u001b[0m, in \u001b[0;36mHTTPConnectionPool.urlopen\u001b[0;34m(self, method, url, body, headers, retries, redirect, assert_same_host, timeout, pool_timeout, release_conn, chunked, body_pos, **response_kw)\u001b[0m\n\u001b[1;32m    697\u001b[0m     \u001b[38;5;28mself\u001b[39m\u001b[38;5;241m.\u001b[39m_prepare_proxy(conn)\n\u001b[1;32m    699\u001b[0m \u001b[38;5;66;03m# Make the request on the httplib connection object.\u001b[39;00m\n\u001b[0;32m--> 700\u001b[0m httplib_response \u001b[38;5;241m=\u001b[39m \u001b[38;5;28;43mself\u001b[39;49m\u001b[38;5;241;43m.\u001b[39;49m\u001b[43m_make_request\u001b[49m\u001b[43m(\u001b[49m\n\u001b[1;32m    701\u001b[0m \u001b[43m    \u001b[49m\u001b[43mconn\u001b[49m\u001b[43m,\u001b[49m\n\u001b[1;32m    702\u001b[0m \u001b[43m    \u001b[49m\u001b[43mmethod\u001b[49m\u001b[43m,\u001b[49m\n\u001b[1;32m    703\u001b[0m \u001b[43m    \u001b[49m\u001b[43murl\u001b[49m\u001b[43m,\u001b[49m\n\u001b[1;32m    704\u001b[0m \u001b[43m    \u001b[49m\u001b[43mtimeout\u001b[49m\u001b[38;5;241;43m=\u001b[39;49m\u001b[43mtimeout_obj\u001b[49m\u001b[43m,\u001b[49m\n\u001b[1;32m    705\u001b[0m \u001b[43m    \u001b[49m\u001b[43mbody\u001b[49m\u001b[38;5;241;43m=\u001b[39;49m\u001b[43mbody\u001b[49m\u001b[43m,\u001b[49m\n\u001b[1;32m    706\u001b[0m \u001b[43m    \u001b[49m\u001b[43mheaders\u001b[49m\u001b[38;5;241;43m=\u001b[39;49m\u001b[43mheaders\u001b[49m\u001b[43m,\u001b[49m\n\u001b[1;32m    707\u001b[0m \u001b[43m    \u001b[49m\u001b[43mchunked\u001b[49m\u001b[38;5;241;43m=\u001b[39;49m\u001b[43mchunked\u001b[49m\u001b[43m,\u001b[49m\n\u001b[1;32m    708\u001b[0m \u001b[43m\u001b[49m\u001b[43m)\u001b[49m\n\u001b[1;32m    710\u001b[0m \u001b[38;5;66;03m# If we're going to release the connection in ``finally:``, then\u001b[39;00m\n\u001b[1;32m    711\u001b[0m \u001b[38;5;66;03m# the response doesn't need to know about the connection. Otherwise\u001b[39;00m\n\u001b[1;32m    712\u001b[0m \u001b[38;5;66;03m# it will also try to release it and we'll have a double-release\u001b[39;00m\n\u001b[1;32m    713\u001b[0m \u001b[38;5;66;03m# mess.\u001b[39;00m\n\u001b[1;32m    714\u001b[0m response_conn \u001b[38;5;241m=\u001b[39m conn \u001b[38;5;28;01mif\u001b[39;00m \u001b[38;5;129;01mnot\u001b[39;00m release_conn \u001b[38;5;28;01melse\u001b[39;00m \u001b[38;5;28;01mNone\u001b[39;00m\n",
      "File \u001b[0;32m/usr/lib/python3/dist-packages/urllib3/connectionpool.py:446\u001b[0m, in \u001b[0;36mHTTPConnectionPool._make_request\u001b[0;34m(self, conn, method, url, timeout, chunked, **httplib_request_kw)\u001b[0m\n\u001b[1;32m    441\u001b[0m             httplib_response \u001b[38;5;241m=\u001b[39m conn\u001b[38;5;241m.\u001b[39mgetresponse()\n\u001b[1;32m    442\u001b[0m         \u001b[38;5;28;01mexcept\u001b[39;00m \u001b[38;5;167;01mBaseException\u001b[39;00m \u001b[38;5;28;01mas\u001b[39;00m e:\n\u001b[1;32m    443\u001b[0m             \u001b[38;5;66;03m# Remove the TypeError from the exception chain in\u001b[39;00m\n\u001b[1;32m    444\u001b[0m             \u001b[38;5;66;03m# Python 3 (including for exceptions like SystemExit).\u001b[39;00m\n\u001b[1;32m    445\u001b[0m             \u001b[38;5;66;03m# Otherwise it looks like a bug in the code.\u001b[39;00m\n\u001b[0;32m--> 446\u001b[0m             \u001b[43msix\u001b[49m\u001b[38;5;241;43m.\u001b[39;49m\u001b[43mraise_from\u001b[49m\u001b[43m(\u001b[49m\u001b[43me\u001b[49m\u001b[43m,\u001b[49m\u001b[43m \u001b[49m\u001b[38;5;28;43;01mNone\u001b[39;49;00m\u001b[43m)\u001b[49m\n\u001b[1;32m    447\u001b[0m \u001b[38;5;28;01mexcept\u001b[39;00m (SocketTimeout, BaseSSLError, SocketError) \u001b[38;5;28;01mas\u001b[39;00m e:\n\u001b[1;32m    448\u001b[0m     \u001b[38;5;28mself\u001b[39m\u001b[38;5;241m.\u001b[39m_raise_timeout(err\u001b[38;5;241m=\u001b[39me, url\u001b[38;5;241m=\u001b[39murl, timeout_value\u001b[38;5;241m=\u001b[39mread_timeout)\n",
      "File \u001b[0;32m<string>:3\u001b[0m, in \u001b[0;36mraise_from\u001b[0;34m(value, from_value)\u001b[0m\n",
      "File \u001b[0;32m/usr/lib/python3/dist-packages/urllib3/connectionpool.py:441\u001b[0m, in \u001b[0;36mHTTPConnectionPool._make_request\u001b[0;34m(self, conn, method, url, timeout, chunked, **httplib_request_kw)\u001b[0m\n\u001b[1;32m    438\u001b[0m \u001b[38;5;28;01mexcept\u001b[39;00m \u001b[38;5;167;01mTypeError\u001b[39;00m:\n\u001b[1;32m    439\u001b[0m     \u001b[38;5;66;03m# Python 3\u001b[39;00m\n\u001b[1;32m    440\u001b[0m     \u001b[38;5;28;01mtry\u001b[39;00m:\n\u001b[0;32m--> 441\u001b[0m         httplib_response \u001b[38;5;241m=\u001b[39m \u001b[43mconn\u001b[49m\u001b[38;5;241;43m.\u001b[39;49m\u001b[43mgetresponse\u001b[49m\u001b[43m(\u001b[49m\u001b[43m)\u001b[49m\n\u001b[1;32m    442\u001b[0m     \u001b[38;5;28;01mexcept\u001b[39;00m \u001b[38;5;167;01mBaseException\u001b[39;00m \u001b[38;5;28;01mas\u001b[39;00m e:\n\u001b[1;32m    443\u001b[0m         \u001b[38;5;66;03m# Remove the TypeError from the exception chain in\u001b[39;00m\n\u001b[1;32m    444\u001b[0m         \u001b[38;5;66;03m# Python 3 (including for exceptions like SystemExit).\u001b[39;00m\n\u001b[1;32m    445\u001b[0m         \u001b[38;5;66;03m# Otherwise it looks like a bug in the code.\u001b[39;00m\n\u001b[1;32m    446\u001b[0m         six\u001b[38;5;241m.\u001b[39mraise_from(e, \u001b[38;5;28;01mNone\u001b[39;00m)\n",
      "File \u001b[0;32m/usr/lib/python3.10/http/client.py:1375\u001b[0m, in \u001b[0;36mHTTPConnection.getresponse\u001b[0;34m(self)\u001b[0m\n\u001b[1;32m   1373\u001b[0m \u001b[38;5;28;01mtry\u001b[39;00m:\n\u001b[1;32m   1374\u001b[0m     \u001b[38;5;28;01mtry\u001b[39;00m:\n\u001b[0;32m-> 1375\u001b[0m         \u001b[43mresponse\u001b[49m\u001b[38;5;241;43m.\u001b[39;49m\u001b[43mbegin\u001b[49m\u001b[43m(\u001b[49m\u001b[43m)\u001b[49m\n\u001b[1;32m   1376\u001b[0m     \u001b[38;5;28;01mexcept\u001b[39;00m \u001b[38;5;167;01mConnectionError\u001b[39;00m:\n\u001b[1;32m   1377\u001b[0m         \u001b[38;5;28mself\u001b[39m\u001b[38;5;241m.\u001b[39mclose()\n",
      "File \u001b[0;32m/usr/lib/python3.10/http/client.py:318\u001b[0m, in \u001b[0;36mHTTPResponse.begin\u001b[0;34m(self)\u001b[0m\n\u001b[1;32m    316\u001b[0m \u001b[38;5;66;03m# read until we get a non-100 response\u001b[39;00m\n\u001b[1;32m    317\u001b[0m \u001b[38;5;28;01mwhile\u001b[39;00m \u001b[38;5;28;01mTrue\u001b[39;00m:\n\u001b[0;32m--> 318\u001b[0m     version, status, reason \u001b[38;5;241m=\u001b[39m \u001b[38;5;28;43mself\u001b[39;49m\u001b[38;5;241;43m.\u001b[39;49m\u001b[43m_read_status\u001b[49m\u001b[43m(\u001b[49m\u001b[43m)\u001b[49m\n\u001b[1;32m    319\u001b[0m     \u001b[38;5;28;01mif\u001b[39;00m status \u001b[38;5;241m!=\u001b[39m CONTINUE:\n\u001b[1;32m    320\u001b[0m         \u001b[38;5;28;01mbreak\u001b[39;00m\n",
      "File \u001b[0;32m/usr/lib/python3.10/http/client.py:279\u001b[0m, in \u001b[0;36mHTTPResponse._read_status\u001b[0;34m(self)\u001b[0m\n\u001b[1;32m    278\u001b[0m \u001b[38;5;28;01mdef\u001b[39;00m\u001b[38;5;250m \u001b[39m\u001b[38;5;21m_read_status\u001b[39m(\u001b[38;5;28mself\u001b[39m):\n\u001b[0;32m--> 279\u001b[0m     line \u001b[38;5;241m=\u001b[39m \u001b[38;5;28mstr\u001b[39m(\u001b[38;5;28;43mself\u001b[39;49m\u001b[38;5;241;43m.\u001b[39;49m\u001b[43mfp\u001b[49m\u001b[38;5;241;43m.\u001b[39;49m\u001b[43mreadline\u001b[49m\u001b[43m(\u001b[49m\u001b[43m_MAXLINE\u001b[49m\u001b[43m \u001b[49m\u001b[38;5;241;43m+\u001b[39;49m\u001b[43m \u001b[49m\u001b[38;5;241;43m1\u001b[39;49m\u001b[43m)\u001b[49m, \u001b[38;5;124m\"\u001b[39m\u001b[38;5;124miso-8859-1\u001b[39m\u001b[38;5;124m\"\u001b[39m)\n\u001b[1;32m    280\u001b[0m     \u001b[38;5;28;01mif\u001b[39;00m \u001b[38;5;28mlen\u001b[39m(line) \u001b[38;5;241m>\u001b[39m _MAXLINE:\n\u001b[1;32m    281\u001b[0m         \u001b[38;5;28;01mraise\u001b[39;00m LineTooLong(\u001b[38;5;124m\"\u001b[39m\u001b[38;5;124mstatus line\u001b[39m\u001b[38;5;124m\"\u001b[39m)\n",
      "File \u001b[0;32m/usr/lib/python3.10/socket.py:705\u001b[0m, in \u001b[0;36mSocketIO.readinto\u001b[0;34m(self, b)\u001b[0m\n\u001b[1;32m    703\u001b[0m \u001b[38;5;28;01mwhile\u001b[39;00m \u001b[38;5;28;01mTrue\u001b[39;00m:\n\u001b[1;32m    704\u001b[0m     \u001b[38;5;28;01mtry\u001b[39;00m:\n\u001b[0;32m--> 705\u001b[0m         \u001b[38;5;28;01mreturn\u001b[39;00m \u001b[38;5;28;43mself\u001b[39;49m\u001b[38;5;241;43m.\u001b[39;49m\u001b[43m_sock\u001b[49m\u001b[38;5;241;43m.\u001b[39;49m\u001b[43mrecv_into\u001b[49m\u001b[43m(\u001b[49m\u001b[43mb\u001b[49m\u001b[43m)\u001b[49m\n\u001b[1;32m    706\u001b[0m     \u001b[38;5;28;01mexcept\u001b[39;00m timeout:\n\u001b[1;32m    707\u001b[0m         \u001b[38;5;28mself\u001b[39m\u001b[38;5;241m.\u001b[39m_timeout_occurred \u001b[38;5;241m=\u001b[39m \u001b[38;5;28;01mTrue\u001b[39;00m\n",
      "File \u001b[0;32m/usr/lib/python3.10/ssl.py:1303\u001b[0m, in \u001b[0;36mSSLSocket.recv_into\u001b[0;34m(self, buffer, nbytes, flags)\u001b[0m\n\u001b[1;32m   1299\u001b[0m     \u001b[38;5;28;01mif\u001b[39;00m flags \u001b[38;5;241m!=\u001b[39m \u001b[38;5;241m0\u001b[39m:\n\u001b[1;32m   1300\u001b[0m         \u001b[38;5;28;01mraise\u001b[39;00m \u001b[38;5;167;01mValueError\u001b[39;00m(\n\u001b[1;32m   1301\u001b[0m           \u001b[38;5;124m\"\u001b[39m\u001b[38;5;124mnon-zero flags not allowed in calls to recv_into() on \u001b[39m\u001b[38;5;132;01m%s\u001b[39;00m\u001b[38;5;124m\"\u001b[39m \u001b[38;5;241m%\u001b[39m\n\u001b[1;32m   1302\u001b[0m           \u001b[38;5;28mself\u001b[39m\u001b[38;5;241m.\u001b[39m\u001b[38;5;18m__class__\u001b[39m)\n\u001b[0;32m-> 1303\u001b[0m     \u001b[38;5;28;01mreturn\u001b[39;00m \u001b[38;5;28;43mself\u001b[39;49m\u001b[38;5;241;43m.\u001b[39;49m\u001b[43mread\u001b[49m\u001b[43m(\u001b[49m\u001b[43mnbytes\u001b[49m\u001b[43m,\u001b[49m\u001b[43m \u001b[49m\u001b[43mbuffer\u001b[49m\u001b[43m)\u001b[49m\n\u001b[1;32m   1304\u001b[0m \u001b[38;5;28;01melse\u001b[39;00m:\n\u001b[1;32m   1305\u001b[0m     \u001b[38;5;28;01mreturn\u001b[39;00m \u001b[38;5;28msuper\u001b[39m()\u001b[38;5;241m.\u001b[39mrecv_into(buffer, nbytes, flags)\n",
      "File \u001b[0;32m/usr/lib/python3.10/ssl.py:1159\u001b[0m, in \u001b[0;36mSSLSocket.read\u001b[0;34m(self, len, buffer)\u001b[0m\n\u001b[1;32m   1157\u001b[0m \u001b[38;5;28;01mtry\u001b[39;00m:\n\u001b[1;32m   1158\u001b[0m     \u001b[38;5;28;01mif\u001b[39;00m buffer \u001b[38;5;129;01mis\u001b[39;00m \u001b[38;5;129;01mnot\u001b[39;00m \u001b[38;5;28;01mNone\u001b[39;00m:\n\u001b[0;32m-> 1159\u001b[0m         \u001b[38;5;28;01mreturn\u001b[39;00m \u001b[38;5;28;43mself\u001b[39;49m\u001b[38;5;241;43m.\u001b[39;49m\u001b[43m_sslobj\u001b[49m\u001b[38;5;241;43m.\u001b[39;49m\u001b[43mread\u001b[49m\u001b[43m(\u001b[49m\u001b[38;5;28;43mlen\u001b[39;49m\u001b[43m,\u001b[49m\u001b[43m \u001b[49m\u001b[43mbuffer\u001b[49m\u001b[43m)\u001b[49m\n\u001b[1;32m   1160\u001b[0m     \u001b[38;5;28;01melse\u001b[39;00m:\n\u001b[1;32m   1161\u001b[0m         \u001b[38;5;28;01mreturn\u001b[39;00m \u001b[38;5;28mself\u001b[39m\u001b[38;5;241m.\u001b[39m_sslobj\u001b[38;5;241m.\u001b[39mread(\u001b[38;5;28mlen\u001b[39m)\n",
      "\u001b[0;31mKeyboardInterrupt\u001b[0m: "
     ]
    }
   ],
   "source": [
    "fetcher.fetch_all()"
   ]
  },
  {
   "cell_type": "markdown",
   "metadata": {},
   "source": [
    "To see fetched answer:"
   ]
  },
  {
   "cell_type": "code",
   "execution_count": 26,
   "metadata": {},
   "outputs": [
    {
     "data": {
      "text/plain": [
       "{}"
      ]
     },
     "execution_count": 26,
     "metadata": {},
     "output_type": "execute_result"
    }
   ],
   "source": [
    "fetcher.fetched"
   ]
  }
 ],
 "metadata": {
  "kernelspec": {
   "display_name": "Python 3",
   "language": "python",
   "name": "python3"
  },
  "language_info": {
   "codemirror_mode": {
    "name": "ipython",
    "version": 3
   },
   "file_extension": ".py",
   "mimetype": "text/x-python",
   "name": "python",
   "nbconvert_exporter": "python",
   "pygments_lexer": "ipython3",
   "version": "3.10.12"
  }
 },
 "nbformat": 4,
 "nbformat_minor": 2
}
